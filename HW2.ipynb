{
 "cells": [
  {
   "cell_type": "markdown",
   "metadata": {},
   "source": [
    "# HW2 5,7,12,17,21,26"
   ]
  },
  {
   "cell_type": "markdown",
   "metadata": {},
   "source": [
    "Turn in photos of your mistakes in the context of the problems below, or make multiple commits of your mistakes to GitHub showing your learning curve. Simply turning in perfect solutions will result in a score of 0.\n",
    "\n",
    "# 2-5 \n",
    "Choose three different cut sets and write KCL for each.\n",
    "\n",
    "![hw2-5](assets/hw2-5.png)\n",
    "Take this png and physically cut it, or draw on paper, take picture and put three png's like I did above and put them below. "
   ]
  },
  {
   "cell_type": "code",
   "execution_count": null,
   "metadata": {},
   "outputs": [],
   "source": []
  },
  {
   "cell_type": "markdown",
   "metadata": {},
   "source": [
    "# 2-7"
   ]
  },
  {
   "cell_type": "markdown",
   "metadata": {},
   "source": [
    "The currents listed in each individual row of the following table represent a different KCL solution. fill in the missing currents for this circuit.   \n",
    "  \n",
    "![hw2-7](assets/hw2-7.png)  \n",
    "The table has white spaces where you are to put numbers with the missing currents  \n",
    "![hw2-7table](assets/hw2-7table.png)  "
   ]
  },
  {
   "cell_type": "markdown",
   "metadata": {},
   "source": []
  },
  {
   "cell_type": "markdown",
   "metadata": {},
   "source": [
    "# 2-12 \n",
    "This is the same circuit as above. The voltages listed represent a different solution to the KVL equations. Find the missing voltage. Use to currents to guess original polarity. While the symbols may represent resistors, they could be power supplies. In reality they are impedances at a moment in time.  \n",
    "  \n",
    "![hw2-12](assets/hw2-12.png)  \n",
    "The table has white spaces where you are to put numbers with the missing currents  \n",
    "![hw2-12table](assets/hw2-12table.png)  \n",
    "  \n",
    "Either write on paper and turn it in, or take photos/screen shots describing how you got to the answers above and put here. Write what you do here.  "
   ]
  },
  {
   "cell_type": "code",
   "execution_count": null,
   "metadata": {},
   "outputs": [],
   "source": []
  },
  {
   "cell_type": "markdown",
   "metadata": {},
   "source": [
    "# 2-17\n",
    "Derive the complete system of first order differential equations. Use the symbols in the drawing below. Follow the lecture Ch2-Kirchoff examples... Symbols: passive, voltages, currents .... Equations: terminal, mesh, node ... count them just like was done in the lecture Ch2-Kirchoff. There are 0 knowns in this diagram. \n",
    "\n",
    "![hw2-17](assets/hw17.png)  \n",
    "  \n",
    "Use the trivial node A and D to document the relationship between $i_s$, $i_1$ and $i_6$ which are in black and are asked for. Use trivial node C to document the relationship between $i_2$ and $i_5$. Never expect trival voltages or nodes to be identified immediately in an circuit drawing.\n",
    "\n",
    "Document in the order and pattern of the Lecture in the cell below. Write the derivative terminal relationship using the LaTeK code like this $\\frac{di_6}{dt}$. "
   ]
  },
  {
   "cell_type": "markdown",
   "metadata": {},
   "source": [
    "# 2-21\n",
    "Find the currents through voltage sources, voltages across current sources, label nodes, meshes, define directions when needed. Assume passive sign convention. Solve with SymPy in terms of these unknowns: $V_s$,$R$ and others if needed. Follow the format of the lecture Ch2-Kirchoff examples. Include at a minimum an equation for $i_4$, the current through $C_4$. \n",
    "\n",
    "![hw2-21](assets/hw2-21.png)\n",
    "\n",
    "There is a missing node in this picture. The missing node was not included and thrown out as is done in the CH2 Kirchhoff Lecture examples. Please formally add it, then remove as is done in the CH2 Kirchhoff Lecture examples."
   ]
  },
  {
   "cell_type": "code",
   "execution_count": null,
   "metadata": {},
   "outputs": [],
   "source": []
  },
  {
   "cell_type": "markdown",
   "metadata": {},
   "source": [
    "# 2-26\n",
    "Find everything. Find currents through voltage sources, voltages across current sources, label nodes, meshes and define directions when needed. Assume passive sign convention. At a minimum find $i_1$, $v_{s_2}$, and $v_{s_3}$ in terms of the other unknowns. Solve with SymPy.  Follow the format of the lecture Ch2-Kirchoff examples.\n",
    "![hw2-26](assets/hw2-26.png)\n",
    "There is a missing node in this picture. The missing node was not included and thrown out as is done in the CH2 Kirchhoff Lecture examples. Please formally add it, then remove as is done in the CH2 Kirchhoff Lecture examples."
   ]
  },
  {
   "cell_type": "code",
   "execution_count": null,
   "metadata": {},
   "outputs": [],
   "source": []
  }
 ],
 "metadata": {
  "kernelspec": {
   "display_name": "Python 3",
   "language": "python",
   "name": "python3"
  },
  "language_info": {
   "codemirror_mode": {
    "name": "ipython",
    "version": 3
   },
   "file_extension": ".py",
   "mimetype": "text/x-python",
   "name": "python",
   "nbconvert_exporter": "python",
   "pygments_lexer": "ipython3",
   "version": "3.7.3"
  }
 },
 "nbformat": 4,
 "nbformat_minor": 2
}
